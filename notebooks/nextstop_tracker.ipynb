{
 "cells": [
  {
   "cell_type": "markdown",
   "metadata": {},
   "source": [
    "# Imports"
   ]
  },
  {
   "cell_type": "code",
   "execution_count": 3,
   "metadata": {},
   "outputs": [
    {
     "data": {
      "text/plain": [
       "PosixPath('/Users/daniel/Idan/University/Masters/Thesis/2024/radar_sort')"
      ]
     },
     "execution_count": 3,
     "metadata": {},
     "output_type": "execute_result"
    }
   ],
   "source": [
    "# Add package root to the path\n",
    "import sys\n",
    "from pathlib import Path\n",
    "path_root = Path().resolve().parents[0]\n",
    "sys.path.append(str(path_root))\n",
    "path_root"
   ]
  },
  {
   "cell_type": "code",
   "execution_count": 18,
   "metadata": {},
   "outputs": [],
   "source": [
    "import argparse\n",
    "import json\n",
    "import torch\n",
    "from torch.utils.data import DataLoader\n",
    "\n",
    "from utils.paths_collector import Paths\n",
    "from data.carrada.dataset import Carrada\n",
    "from evaluation.tester import Tester\n",
    "from mvrss.utils.functions import count_params\n",
    "# from mvrss.learners.tester import Tester\n",
    "from mvrss.models import TMVANet, MVNet\n",
    "# from mvrss.loaders.dataset import Carrada\n",
    "from mvrss.loaders.dataloaders import SequenceCarradaDataset\n",
    "import json\n",
    "import numpy as np\n",
    "import torch\n",
    "from torch.utils.data import DataLoader\n",
    "from torchvision.utils import make_grid\n",
    "\n",
    "from mvrss.utils.functions import transform_masks_viz, get_metrics, normalize, define_loss, get_transformations, get_qualitatives\n",
    "# from mvrss.utils.paths import Paths\n",
    "from mvrss.utils.metrics import Evaluator\n",
    "from mvrss.loaders.dataloaders import CarradaDataset\n",
    "\n",
    "from utils.paths_collector import Paths"
   ]
  },
  {
   "cell_type": "code",
   "execution_count": 19,
   "metadata": {},
   "outputs": [],
   "source": [
    "# PARAMETERS\n",
    "args = {\n",
    "    'cfg': '/Users/daniel/Idan/University/Masters/Thesis/2024/datasets/logs/carrada/mvnet/mvnet_e300_lr0.0001_s42_0/config.json',\n",
    "}\n",
    "\n",
    "seq_name = '2019-09-16-12-55-51'  # None for all\n",
    "\n",
    "frame_num_plot = 5\n",
    "device = torch.device('cuda' if torch.cuda.is_available() else 'cpu')"
   ]
  },
  {
   "cell_type": "code",
   "execution_count": 20,
   "metadata": {},
   "outputs": [],
   "source": [
    "    cfg_path = args[\"cfg\"]\n",
    "    with open(cfg_path, 'r') as fp:\n",
    "        cfg = json.load(fp)"
   ]
  },
  {
   "cell_type": "code",
   "execution_count": 21,
   "metadata": {},
   "outputs": [
    {
     "data": {
      "text/plain": [
       "{'warehouse': PosixPath('/Users/daniel/Idan/University/Masters/Thesis/2024/datasets'),\n",
       " 'logs': PosixPath('/Users/daniel/Idan/University/Masters/Thesis/2024/datasets/logs'),\n",
       " 'carrada': PosixPath('/Users/daniel/Idan/University/Masters/Thesis/2024/datasets/Carrada'),\n",
       " 'config': '/Users/daniel/Idan/University/Masters/Thesis/2024/radar_sort/configs/config.ini'}"
      ]
     },
     "execution_count": 21,
     "metadata": {},
     "output_type": "execute_result"
    }
   ],
   "source": [
    "paths = Paths().get()\n",
    "\n",
    "exp_name = cfg['name_exp'] + '_' + str(cfg['version'])\n",
    "path = paths['logs'] / cfg['dataset'] / cfg['model'] / exp_name\n",
    "model_path = path / 'results' / 'model.pt'\n",
    "test_results_path = path / 'results' / 'test_results.json'\n",
    "paths"
   ]
  },
  {
   "cell_type": "code",
   "execution_count": 22,
   "metadata": {},
   "outputs": [
    {
     "data": {
      "text/plain": [
       "{'name': 'mvnet',\n",
       " 'model': 'mvnet',\n",
       " 'dataset': 'carrada',\n",
       " 'signal_type': 'mimo',\n",
       " 'process_signal': True,\n",
       " 'annot_format': 'light_frame',\n",
       " 'annot_type': 'dense',\n",
       " 'w_size': 256,\n",
       " 'h_size': 256,\n",
       " 'nb_classes': 4,\n",
       " 'nb_input_channels': 3,\n",
       " 'nb_epochs': 300,\n",
       " 'batch_size': 15,\n",
       " 'lr': 0.0001,\n",
       " 'lr_step': 20,\n",
       " 'loss_step': 100,\n",
       " 'val_step': 2000,\n",
       " 'viz_step': 4000,\n",
       " 'torch_seed': 42,\n",
       " 'numpy_seed': 42,\n",
       " 'version': 0,\n",
       " 'device': 'cuda',\n",
       " 'custom_loss': 'wce_w10sdice',\n",
       " 'transformations': 'flip',\n",
       " 'norm_type': 'tvt',\n",
       " 'rd_loss_weight': 1,\n",
       " 'ra_loss_weight': 1,\n",
       " 'shuffle': True,\n",
       " 'comments': 'Multi-View network (MV-Net), former H-Net. Methods: data aug (flip) + multi loss + 3 input frames. Model selection: mean of precision. Normalisation: TVT. Loss: wCE + weighted Soft Dice Loss (10*SDice).',\n",
       " 'name_exp': 'mvnet_e300_lr0.0001_s42'}"
      ]
     },
     "execution_count": 22,
     "metadata": {},
     "output_type": "execute_result"
    }
   ],
   "source": [
    "iteration=None\n",
    "get_quali=True\n",
    "add_temp=True\n",
    "\n",
    "visualizer = None\n",
    "cfg = cfg\n",
    "visualizer = visualizer\n",
    "model = cfg['model']\n",
    "nb_classes = cfg['nb_classes']\n",
    "annot_type = cfg['annot_type']\n",
    "process_signal = cfg['process_signal']\n",
    "w_size = cfg['w_size']\n",
    "h_size = cfg['h_size']\n",
    "n_frames = cfg['nb_input_channels']\n",
    "batch_size = cfg['batch_size']\n",
    "device = torch.device('cuda' if torch.cuda.is_available() else 'cpu')\n",
    "custom_loss = cfg['custom_loss']\n",
    "transform_names = cfg['transformations'].split(',')\n",
    "norm_type = cfg['norm_type']\n",
    "paths = Paths().get()\n",
    "test_results = dict()\n",
    "cfg"
   ]
  },
  {
   "cell_type": "code",
   "execution_count": 25,
   "metadata": {},
   "outputs": [],
   "source": [
    "\n",
    "# Construct the path to the frames (assumes paths is defined with key 'carrada')\n",
    "path_to_frames = paths['carrada'] / seq_name[0]\n",
    "# Prepare transformations for the test split (assumes get_transformations is defined)\n",
    "transformations = get_transformations(\n",
    "    transform_names, split='test', sizes=(w_size, h_size))\n",
    "seq = [('000050',), ('000051',), ('000052',), ('000053',), ('000054',), ('000055',), ('000056',), ('000059',), ('000060',), ('000061',), ('000062',), ('000063',), ('000064',), ('000065',), ('000069',), ('000070',)]\n",
    "# Create a DataLoader for the current sequence frames (assumes CarradaDataset is defined)\n",
    "frame_dataloader = DataLoader(\n",
    "    CarradaDataset(seq, annot_type, path_to_frames,\n",
    "                    process_signal, n_frames, transformations, add_temp),\n",
    "    shuffle=False,\n",
    "    batch_size=1,\n",
    "    num_workers=4\n",
    ")"
   ]
  },
  {
   "cell_type": "code",
   "execution_count": 26,
   "metadata": {},
   "outputs": [
    {
     "ename": "FileNotFoundError",
     "evalue": "Caught FileNotFoundError in DataLoader worker process 0.\nOriginal Traceback (most recent call last):\n  File \"/Users/daniel/miniconda3/envs/radar_sort/lib/python3.11/site-packages/torch/utils/data/_utils/worker.py\", line 351, in _worker_loop\n    data = fetcher.fetch(index)  # type: ignore[possibly-undefined]\n           ^^^^^^^^^^^^^^^^^^^^\n  File \"/Users/daniel/miniconda3/envs/radar_sort/lib/python3.11/site-packages/torch/utils/data/_utils/fetch.py\", line 52, in fetch\n    data = [self.dataset[idx] for idx in possibly_batched_index]\n           ^^^^^^^^^^^^^^^^^^^^^^^^^^^^^^^^^^^^^^^^^^^^^^^^^^^^^\n  File \"/Users/daniel/miniconda3/envs/radar_sort/lib/python3.11/site-packages/torch/utils/data/_utils/fetch.py\", line 52, in <listcomp>\n    data = [self.dataset[idx] for idx in possibly_batched_index]\n            ~~~~~~~~~~~~^^^^^\n  File \"/Users/daniel/Idan/University/Masters/Thesis/2024/radar_sort/external/MVRSS/mvrss/loaders/dataloaders.py\", line 111, in __getitem__\n    rd_mask = np.load(os.path.join(self.path_to_annots, init_frame_name,\n              ^^^^^^^^^^^^^^^^^^^^^^^^^^^^^^^^^^^^^^^^^^^^^^^^^^^^^^^^^^\n  File \"/Users/daniel/miniconda3/envs/radar_sort/lib/python3.11/site-packages/numpy/lib/_npyio_impl.py\", line 451, in load\n    fid = stack.enter_context(open(os.fspath(file), \"rb\"))\n                              ^^^^^^^^^^^^^^^^^^^^^^^^^^^\nFileNotFoundError: [Errno 2] No such file or directory: '/Users/daniel/Idan/University/Masters/Thesis/2024/datasets/Carrada/2/annotations/dense/000052/range_doppler.npy'\n",
     "output_type": "error",
     "traceback": [
      "\u001b[31m---------------------------------------------------------------------------\u001b[39m",
      "\u001b[31mFileNotFoundError\u001b[39m                         Traceback (most recent call last)",
      "\u001b[36mCell\u001b[39m\u001b[36m \u001b[39m\u001b[32mIn[26]\u001b[39m\u001b[32m, line 2\u001b[39m\n\u001b[32m      1\u001b[39m \u001b[38;5;66;03m# Get frame_num_plot from the dataloader\u001b[39;00m\n\u001b[32m----> \u001b[39m\u001b[32m2\u001b[39m \u001b[38;5;28;43;01mfor\u001b[39;49;00m\u001b[43m \u001b[49m\u001b[43mframe_num\u001b[49m\u001b[43m,\u001b[49m\u001b[43m \u001b[49m\u001b[43mframe\u001b[49m\u001b[43m \u001b[49m\u001b[38;5;129;43;01min\u001b[39;49;00m\u001b[43m \u001b[49m\u001b[38;5;28;43menumerate\u001b[39;49m\u001b[43m(\u001b[49m\u001b[43mframe_dataloader\u001b[49m\u001b[43m)\u001b[49m\u001b[43m:\u001b[49m\n\u001b[32m      3\u001b[39m \u001b[43m    \u001b[49m\u001b[43mrd_mask\u001b[49m\u001b[43m \u001b[49m\u001b[43m=\u001b[49m\u001b[43m \u001b[49m\u001b[43mframe\u001b[49m\u001b[43m[\u001b[49m\u001b[33;43m'\u001b[39;49m\u001b[33;43mrd_mask\u001b[39;49m\u001b[33;43m'\u001b[39;49m\u001b[43m]\u001b[49m\u001b[43m.\u001b[49m\u001b[43mto\u001b[49m\u001b[43m(\u001b[49m\u001b[43mdevice\u001b[49m\u001b[43m)\u001b[49m\u001b[43m.\u001b[49m\u001b[43mfloat\u001b[49m\u001b[43m(\u001b[49m\u001b[43m)\u001b[49m\n\u001b[32m      4\u001b[39m \u001b[43m    \u001b[49m\u001b[43mcurent_frame\u001b[49m\u001b[43m \u001b[49m\u001b[43m=\u001b[49m\u001b[43m \u001b[49m\u001b[43mframe_num\u001b[49m\u001b[43m \u001b[49m\u001b[43m*\u001b[49m\u001b[43m \u001b[49m\u001b[38;5;28;43mlen\u001b[39;49m\u001b[43m(\u001b[49m\u001b[43mrd_mask\u001b[49m\u001b[43m)\u001b[49m\n",
      "\u001b[36mFile \u001b[39m\u001b[32m~/miniconda3/envs/radar_sort/lib/python3.11/site-packages/torch/utils/data/dataloader.py:701\u001b[39m, in \u001b[36m_BaseDataLoaderIter.__next__\u001b[39m\u001b[34m(self)\u001b[39m\n\u001b[32m    698\u001b[39m \u001b[38;5;28;01mif\u001b[39;00m \u001b[38;5;28mself\u001b[39m._sampler_iter \u001b[38;5;129;01mis\u001b[39;00m \u001b[38;5;28;01mNone\u001b[39;00m:\n\u001b[32m    699\u001b[39m     \u001b[38;5;66;03m# TODO(https://github.com/pytorch/pytorch/issues/76750)\u001b[39;00m\n\u001b[32m    700\u001b[39m     \u001b[38;5;28mself\u001b[39m._reset()  \u001b[38;5;66;03m# type: ignore[call-arg]\u001b[39;00m\n\u001b[32m--> \u001b[39m\u001b[32m701\u001b[39m data = \u001b[38;5;28;43mself\u001b[39;49m\u001b[43m.\u001b[49m\u001b[43m_next_data\u001b[49m\u001b[43m(\u001b[49m\u001b[43m)\u001b[49m\n\u001b[32m    702\u001b[39m \u001b[38;5;28mself\u001b[39m._num_yielded += \u001b[32m1\u001b[39m\n\u001b[32m    703\u001b[39m \u001b[38;5;28;01mif\u001b[39;00m (\n\u001b[32m    704\u001b[39m     \u001b[38;5;28mself\u001b[39m._dataset_kind == _DatasetKind.Iterable\n\u001b[32m    705\u001b[39m     \u001b[38;5;129;01mand\u001b[39;00m \u001b[38;5;28mself\u001b[39m._IterableDataset_len_called \u001b[38;5;129;01mis\u001b[39;00m \u001b[38;5;129;01mnot\u001b[39;00m \u001b[38;5;28;01mNone\u001b[39;00m\n\u001b[32m    706\u001b[39m     \u001b[38;5;129;01mand\u001b[39;00m \u001b[38;5;28mself\u001b[39m._num_yielded > \u001b[38;5;28mself\u001b[39m._IterableDataset_len_called\n\u001b[32m    707\u001b[39m ):\n",
      "\u001b[36mFile \u001b[39m\u001b[32m~/miniconda3/envs/radar_sort/lib/python3.11/site-packages/torch/utils/data/dataloader.py:1465\u001b[39m, in \u001b[36m_MultiProcessingDataLoaderIter._next_data\u001b[39m\u001b[34m(self)\u001b[39m\n\u001b[32m   1463\u001b[39m \u001b[38;5;28;01melse\u001b[39;00m:\n\u001b[32m   1464\u001b[39m     \u001b[38;5;28;01mdel\u001b[39;00m \u001b[38;5;28mself\u001b[39m._task_info[idx]\n\u001b[32m-> \u001b[39m\u001b[32m1465\u001b[39m     \u001b[38;5;28;01mreturn\u001b[39;00m \u001b[38;5;28;43mself\u001b[39;49m\u001b[43m.\u001b[49m\u001b[43m_process_data\u001b[49m\u001b[43m(\u001b[49m\u001b[43mdata\u001b[49m\u001b[43m)\u001b[49m\n",
      "\u001b[36mFile \u001b[39m\u001b[32m~/miniconda3/envs/radar_sort/lib/python3.11/site-packages/torch/utils/data/dataloader.py:1491\u001b[39m, in \u001b[36m_MultiProcessingDataLoaderIter._process_data\u001b[39m\u001b[34m(self, data)\u001b[39m\n\u001b[32m   1489\u001b[39m \u001b[38;5;28mself\u001b[39m._try_put_index()\n\u001b[32m   1490\u001b[39m \u001b[38;5;28;01mif\u001b[39;00m \u001b[38;5;28misinstance\u001b[39m(data, ExceptionWrapper):\n\u001b[32m-> \u001b[39m\u001b[32m1491\u001b[39m     \u001b[43mdata\u001b[49m\u001b[43m.\u001b[49m\u001b[43mreraise\u001b[49m\u001b[43m(\u001b[49m\u001b[43m)\u001b[49m\n\u001b[32m   1492\u001b[39m \u001b[38;5;28;01mreturn\u001b[39;00m data\n",
      "\u001b[36mFile \u001b[39m\u001b[32m~/miniconda3/envs/radar_sort/lib/python3.11/site-packages/torch/_utils.py:715\u001b[39m, in \u001b[36mExceptionWrapper.reraise\u001b[39m\u001b[34m(self)\u001b[39m\n\u001b[32m    711\u001b[39m \u001b[38;5;28;01mexcept\u001b[39;00m \u001b[38;5;167;01mTypeError\u001b[39;00m:\n\u001b[32m    712\u001b[39m     \u001b[38;5;66;03m# If the exception takes multiple arguments, don't try to\u001b[39;00m\n\u001b[32m    713\u001b[39m     \u001b[38;5;66;03m# instantiate since we don't know how to\u001b[39;00m\n\u001b[32m    714\u001b[39m     \u001b[38;5;28;01mraise\u001b[39;00m \u001b[38;5;167;01mRuntimeError\u001b[39;00m(msg) \u001b[38;5;28;01mfrom\u001b[39;00m\u001b[38;5;250m \u001b[39m\u001b[38;5;28;01mNone\u001b[39;00m\n\u001b[32m--> \u001b[39m\u001b[32m715\u001b[39m \u001b[38;5;28;01mraise\u001b[39;00m exception\n",
      "\u001b[31mFileNotFoundError\u001b[39m: Caught FileNotFoundError in DataLoader worker process 0.\nOriginal Traceback (most recent call last):\n  File \"/Users/daniel/miniconda3/envs/radar_sort/lib/python3.11/site-packages/torch/utils/data/_utils/worker.py\", line 351, in _worker_loop\n    data = fetcher.fetch(index)  # type: ignore[possibly-undefined]\n           ^^^^^^^^^^^^^^^^^^^^\n  File \"/Users/daniel/miniconda3/envs/radar_sort/lib/python3.11/site-packages/torch/utils/data/_utils/fetch.py\", line 52, in fetch\n    data = [self.dataset[idx] for idx in possibly_batched_index]\n           ^^^^^^^^^^^^^^^^^^^^^^^^^^^^^^^^^^^^^^^^^^^^^^^^^^^^^\n  File \"/Users/daniel/miniconda3/envs/radar_sort/lib/python3.11/site-packages/torch/utils/data/_utils/fetch.py\", line 52, in <listcomp>\n    data = [self.dataset[idx] for idx in possibly_batched_index]\n            ~~~~~~~~~~~~^^^^^\n  File \"/Users/daniel/Idan/University/Masters/Thesis/2024/radar_sort/external/MVRSS/mvrss/loaders/dataloaders.py\", line 111, in __getitem__\n    rd_mask = np.load(os.path.join(self.path_to_annots, init_frame_name,\n              ^^^^^^^^^^^^^^^^^^^^^^^^^^^^^^^^^^^^^^^^^^^^^^^^^^^^^^^^^^\n  File \"/Users/daniel/miniconda3/envs/radar_sort/lib/python3.11/site-packages/numpy/lib/_npyio_impl.py\", line 451, in load\n    fid = stack.enter_context(open(os.fspath(file), \"rb\"))\n                              ^^^^^^^^^^^^^^^^^^^^^^^^^^^\nFileNotFoundError: [Errno 2] No such file or directory: '/Users/daniel/Idan/University/Masters/Thesis/2024/datasets/Carrada/2/annotations/dense/000052/range_doppler.npy'\n"
     ]
    }
   ],
   "source": [
    "# Get frame_num_plot from the dataloader\n",
    "for frame_num, frame in enumerate(frame_dataloader):\n",
    "    rd_mask = frame['rd_mask'].to(device).float()\n",
    "    curent_frame = frame_num * len(rd_mask)\n",
    "\n",
    "    if rd_mask[0][1:].max() > 0.0:\n",
    "        frame_num_plot -= 1\n",
    "        print(\n",
    "            f\"frame number: {frame_num}, max value = {rd_mask[0][1:].max()} yeyy\")\n",
    "        if frame_num_plot == 0:\n",
    "            break\n",
    "\n",
    "# Retrieve tensors and move them to the device (assumes proper keys exist in frame)\n",
    "rd_data = frame['rd_matrix'].to(device).float()\n",
    "ra_data = frame['ra_matrix'].to(device).float()\n",
    "# Only used if model is 'tmvanet'\n",
    "ad_data = frame['ad_matrix'].to(device).float()\n",
    "rd_mask = frame['rd_mask'].to(device).float()\n",
    "ra_mask = frame['ra_mask'].to(device).float()\n",
    "\n",
    "# Normalize the inputs (assumes normalize is defined)\n",
    "rd_data = normalize(rd_data, 'range_doppler', norm_type=norm_type).squeeze()\n",
    "ra_data = normalize(ra_data, 'range_angle', norm_type=norm_type).squeeze()\n"
   ]
  },
  {
   "cell_type": "code",
   "execution_count": null,
   "metadata": {},
   "outputs": [],
   "source": []
  }
 ],
 "metadata": {
  "kernelspec": {
   "display_name": "radar_sort",
   "language": "python",
   "name": "python3"
  },
  "language_info": {
   "codemirror_mode": {
    "name": "ipython",
    "version": 3
   },
   "file_extension": ".py",
   "mimetype": "text/x-python",
   "name": "python",
   "nbconvert_exporter": "python",
   "pygments_lexer": "ipython3",
   "version": "3.11.11"
  }
 },
 "nbformat": 4,
 "nbformat_minor": 2
}
