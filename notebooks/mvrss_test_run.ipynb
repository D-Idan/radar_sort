{
 "cells": [
  {
   "cell_type": "code",
   "execution_count": 1,
   "metadata": {},
   "outputs": [
    {
     "data": {
      "text/plain": [
       "PosixPath('/Users/daniel/Idan/University/Masters/Thesis/2024/radar_sort')"
      ]
     },
     "execution_count": 1,
     "metadata": {},
     "output_type": "execute_result"
    }
   ],
   "source": [
    "# Add package root to the path\n",
    "import sys\n",
    "from pathlib import Path\n",
    "path_root = Path().resolve().parents[0]\n",
    "sys.path.append(str(path_root))\n",
    "path_root"
   ]
  },
  {
   "cell_type": "code",
   "execution_count": 2,
   "metadata": {},
   "outputs": [],
   "source": [
    "import argparse\n",
    "import json\n",
    "import torch\n",
    "from torch.utils.data import DataLoader\n",
    "\n",
    "from utils.paths_collector import Paths\n",
    "from data.carrada.dataset import Carrada\n",
    "from evaluation.tester import Tester\n",
    "from mvrss.utils.functions import count_params\n",
    "# from mvrss.learners.tester import Tester\n",
    "from mvrss.models import TMVANet, MVNet\n",
    "# from mvrss.loaders.dataset import Carrada\n",
    "from mvrss.loaders.dataloaders import SequenceCarradaDataset"
   ]
  },
  {
   "cell_type": "code",
   "execution_count": 3,
   "metadata": {},
   "outputs": [],
   "source": [
    "# PARAMETERS\n",
    "args = {\n",
    "    'cfg': '/Users/daniel/Idan/University/Masters/Thesis/2024/datasets/logs/carrada/mvnet/mvnet_e300_lr0.0001_s42_0/config.json',\n",
    "}\n",
    "\n",
    "target_seq = '2019-09-16-12-55-51' # None for all\n",
    "frame_num_plot = 5\n",
    "device = torch.device('cuda' if torch.cuda.is_available() else 'cpu')"
   ]
  },
  {
   "cell_type": "code",
   "execution_count": 4,
   "metadata": {},
   "outputs": [],
   "source": [
    "    cfg_path = args[\"cfg\"]\n",
    "    with open(cfg_path, 'r') as fp:\n",
    "        cfg = json.load(fp)"
   ]
  },
  {
   "cell_type": "code",
   "execution_count": 5,
   "metadata": {},
   "outputs": [],
   "source": [
    "    paths = Paths().get()\n",
    "\n",
    "    exp_name = cfg['name_exp'] + '_' + str(cfg['version'])\n",
    "    path = paths['logs'] / cfg['dataset'] / cfg['model'] / exp_name\n",
    "    model_path = path / 'results' / 'model.pt'\n",
    "    test_results_path = path / 'results' / 'test_results.json'"
   ]
  },
  {
   "cell_type": "code",
   "execution_count": 6,
   "metadata": {},
   "outputs": [
    {
     "data": {
      "text/plain": [
       "{'warehouse': PosixPath('/Users/daniel/Idan/University/Masters/Thesis/2024/datasets'),\n",
       " 'logs': PosixPath('/Users/daniel/Idan/University/Masters/Thesis/2024/datasets/logs'),\n",
       " 'carrada': PosixPath('/Users/daniel/Idan/University/Masters/Thesis/2024/datasets/Carrada'),\n",
       " 'config': '/Users/daniel/Idan/University/Masters/Thesis/2024/radar_sort/configs/config.ini'}"
      ]
     },
     "execution_count": 6,
     "metadata": {},
     "output_type": "execute_result"
    }
   ],
   "source": [
    "paths"
   ]
  },
  {
   "cell_type": "code",
   "execution_count": 7,
   "metadata": {},
   "outputs": [
    {
     "name": "stdout",
     "output_type": "stream",
     "text": [
      "Number of trainable parameters in the model: 2375432\n"
     ]
    },
    {
     "name": "stderr",
     "output_type": "stream",
     "text": [
      "/var/folders/wh/181dmx3d2v94m8cyv4ny1s_w0000gn/T/ipykernel_85428/2230332469.py:6: FutureWarning: You are using `torch.load` with `weights_only=False` (the current default value), which uses the default pickle module implicitly. It is possible to construct malicious pickle data which will execute arbitrary code during unpickling (See https://github.com/pytorch/pytorch/blob/main/SECURITY.md#untrusted-models for more details). In a future release, the default value for `weights_only` will be flipped to `True`. This limits the functions that could be executed during unpickling. Arbitrary objects will no longer be allowed to be loaded via this mode unless they are explicitly allowlisted by the user via `torch.serialization.add_safe_globals`. We recommend you start setting `weights_only=True` for any use case where you don't have full control of the loaded file. Please open an issue on GitHub for any issues related to this experimental feature.\n",
      "  model.load_state_dict(torch.load(model_path, map_location=torch.device(device)))\n"
     ]
    }
   ],
   "source": [
    "    if cfg['model'] == 'mvnet':\n",
    "        model = MVNet(n_classes=cfg['nb_classes'], n_frames=cfg['nb_input_channels'])\n",
    "    else:\n",
    "        model = TMVANet(n_classes=cfg['nb_classes'], n_frames=cfg['nb_input_channels'])\n",
    "    print('Number of trainable parameters in the model: %s' % str(count_params(model)))\n",
    "    model.load_state_dict(torch.load(model_path, map_location=torch.device(device)))\n",
    "    model = model.to(device)"
   ]
  },
  {
   "cell_type": "code",
   "execution_count": 8,
   "metadata": {},
   "outputs": [],
   "source": [
    "tester = Tester(cfg)\n",
    "\n",
    "data = Carrada(config_model=cfg)\n",
    "test = data.get('Train')"
   ]
  },
  {
   "cell_type": "code",
   "execution_count": 9,
   "metadata": {},
   "outputs": [],
   "source": [
    "# Select the target sequence if specified\n",
    "if target_seq is not None:\n",
    "    test = {target_seq: test[target_seq]}\n",
    "    \n",
    "testset = SequenceCarradaDataset(test)\n",
    "seq_testloader = DataLoader(\n",
    "    testset,\n",
    "    batch_size=1,\n",
    "    shuffle=False, \n",
    "    num_workers=0\n",
    ")"
   ]
  },
  {
   "cell_type": "code",
   "execution_count": 10,
   "metadata": {},
   "outputs": [],
   "source": [
    "tester.set_annot_type(cfg['annot_type'])"
   ]
  },
  {
   "cell_type": "code",
   "execution_count": 11,
   "metadata": {},
   "outputs": [
    {
     "data": {
      "text/plain": [
       "'\\nMethod to predict on a given dataset using a fixed model\\n\\nPARAMETERS\\n----------\\nnet: PyTorch Model\\n    Network to test\\nseq_loader: DataLoader\\n    Specific to the dataset used for test\\niteration: int\\n    Iteration used to display visualization\\n    Default: None\\nget_quali: boolean\\n    If you want to save qualitative results\\n    Default: False\\nadd_temp: boolean\\n    Is the data are considered as a sequence\\n    Default: False\\n'"
      ]
     },
     "execution_count": 11,
     "metadata": {},
     "output_type": "execute_result"
    }
   ],
   "source": [
    "\"\"\"\n",
    "Method to predict on a given dataset using a fixed model\n",
    "\n",
    "PARAMETERS\n",
    "----------\n",
    "net: PyTorch Model\n",
    "    Network to test\n",
    "seq_loader: DataLoader\n",
    "    Specific to the dataset used for test\n",
    "iteration: int\n",
    "    Iteration used to display visualization\n",
    "    Default: None\n",
    "get_quali: boolean\n",
    "    If you want to save qualitative results\n",
    "    Default: False\n",
    "add_temp: boolean\n",
    "    Is the data are considered as a sequence\n",
    "    Default: False\n",
    "\"\"\"\n",
    "        \n",
    "# if cfg['model'] == 'mvnet':\n",
    "#     test_results = tester.predict(model, seq_testloader, get_quali=True, add_temp=False)\n",
    "# else:\n",
    "#     test_results = tester.predict(model, seq_testloader, get_quali=True, add_temp=True)"
   ]
  },
  {
   "cell_type": "code",
   "execution_count": 12,
   "metadata": {},
   "outputs": [],
   "source": [
    "# tester.write_params(test_results_path)\n",
    "# test_results_path"
   ]
  },
  {
   "cell_type": "code",
   "execution_count": null,
   "metadata": {},
   "outputs": [],
   "source": []
  },
  {
   "cell_type": "markdown",
   "metadata": {},
   "source": [
    "# Predict Method Walkthrough\n",
    "This notebook breaks down the `predict` method of the Tester class step by step"
   ]
  },
  {
   "cell_type": "markdown",
   "metadata": {},
   "source": [
    "## 1. Imports and Initial Setup\n",
    "First we need all required imports and configuration"
   ]
  },
  {
   "cell_type": "code",
   "execution_count": 13,
   "metadata": {},
   "outputs": [],
   "source": [
    "import json\n",
    "import numpy as np\n",
    "import torch\n",
    "from torch.utils.data import DataLoader\n",
    "from torchvision.utils import make_grid\n",
    "\n",
    "from mvrss.utils.functions import transform_masks_viz, get_metrics, normalize, define_loss, get_transformations, get_qualitatives\n",
    "# from mvrss.utils.paths import Paths\n",
    "from mvrss.utils.metrics import Evaluator\n",
    "from mvrss.loaders.dataloaders import CarradaDataset\n",
    "\n",
    "from utils.paths_collector import Paths"
   ]
  },
  {
   "cell_type": "code",
   "execution_count": 14,
   "metadata": {},
   "outputs": [],
   "source": [
    "net, seq_loader = model, seq_testloader\n",
    "iteration=None\n",
    "get_quali=True\n",
    "add_temp=True\n",
    "\n",
    "visualizer = None"
   ]
  },
  {
   "cell_type": "code",
   "execution_count": 15,
   "metadata": {},
   "outputs": [],
   "source": [
    "        cfg = cfg\n",
    "        visualizer = visualizer\n",
    "        model = cfg['model']\n",
    "        nb_classes = cfg['nb_classes']\n",
    "        annot_type = cfg['annot_type']\n",
    "        process_signal = cfg['process_signal']\n",
    "        w_size = cfg['w_size']\n",
    "        h_size = cfg['h_size']\n",
    "        n_frames = cfg['nb_input_channels']\n",
    "        batch_size = cfg['batch_size']\n",
    "        device = torch.device('cuda' if torch.cuda.is_available() else 'cpu')\n",
    "        custom_loss = cfg['custom_loss']\n",
    "        transform_names = cfg['transformations'].split(',')\n",
    "        norm_type = cfg['norm_type']\n",
    "        paths = Paths().get()\n",
    "        test_results = dict()"
   ]
  },
  {
   "cell_type": "markdown",
   "metadata": {},
   "source": [
    "## Setup - Preparing the Evaluation Environment\n",
    "In this cell, we set the network to evaluation mode, create the test-time transformations, initialize loss functions and evaluation metrics, and define some lists to collect running losses. We also set a random sequence index if you are using visualization for a specific iteration."
   ]
  },
  {
   "cell_type": "code",
   "execution_count": 16,
   "metadata": {},
   "outputs": [],
   "source": [
    "cfg  # Set the network to evaluation mode\n",
    "net.eval()\n",
    "\n",
    "# Prepare transformations for the test split (assumes get_transformations is defined)\n",
    "transformations = get_transformations(\n",
    "    transform_names, split='test', sizes=(w_size, h_size))\n",
    "\n",
    "# Define loss functions for range_doppler and range_angle (assumes define_loss is defined)\n",
    "rd_criterion = define_loss('range_doppler', custom_loss, device)\n",
    "ra_criterion = define_loss('range_angle', custom_loss, device)\n",
    "nb_losses = len(rd_criterion)\n",
    "\n",
    "# Initialize lists to store running losses and detailed sub-losses\n",
    "running_losses = []\n",
    "rd_running_losses = []\n",
    "rd_running_global_losses = [[], []]  # Two sub-losses for range_doppler\n",
    "ra_running_losses = []\n",
    "ra_running_global_losses = [[], []]  # Two sub-losses for range_angle\n",
    "coherence_running_losses = []\n",
    "\n",
    "# Initialize evaluators for metrics (assumes Evaluator is defined)\n",
    "rd_metrics = Evaluator(num_class=nb_classes)\n",
    "ra_metrics = Evaluator(num_class=nb_classes)\n",
    "\n",
    "# If an iteration number is provided, choose a random sequence from the loader for visualization\n",
    "if iteration is not None:\n",
    "    rand_seq = np.random.randint(len(seq_loader))"
   ]
  },
  {
   "cell_type": "markdown",
   "metadata": {},
   "source": [
    "## Looping Over Sequences\n",
    "Here we iterate over the sequences in the seq_loader. For each sequence, we create a frame-level dataloader and prepare for potential visualization if the iteration flag is set."
   ]
  },
  {
   "cell_type": "code",
   "execution_count": 17,
   "metadata": {},
   "outputs": [],
   "source": [
    "# Loop over each sequence in the seq_loader\n",
    "for i, sequence_data in enumerate(seq_loader):\n",
    "    seq_name, seq = sequence_data\n",
    "    # Construct the path to the frames (assumes paths is defined with key 'carrada')\n",
    "    path_to_frames = paths['carrada'] / seq_name[0]\n",
    "    \n",
    "    # Create a DataLoader for the current sequence frames (assumes CarradaDataset is defined)\n",
    "    frame_dataloader = DataLoader(\n",
    "        CarradaDataset(seq, annot_type, path_to_frames, process_signal, n_frames, transformations, add_temp),\n",
    "        shuffle=False,\n",
    "        batch_size=batch_size,\n",
    "        num_workers=4\n",
    "    )\n",
    "    \n",
    "    # If visualization is enabled and we are on the random sequence, choose a random frame index\n",
    "    if iteration is not None and i == rand_seq:\n",
    "        rand_frame = np.random.randint(len(frame_dataloader))\n",
    "    \n",
    "    # Set qualitative iteration counters (for visualization) if qualitative results are needed\n",
    "    if get_quali:\n",
    "        quali_iter_rd = n_frames - 1\n",
    "        quali_iter_ra = n_frames - 1\n"
   ]
  },
  {
   "cell_type": "markdown",
   "metadata": {},
   "source": [
    "## Processing Each Frame\n",
    "Within each sequence, we loop over the frames. For each frame we:\n",
    "\n",
    "-    Load and normalize the data (range-doppler, range-angle, and optionally angle-doppler).\n",
    "\n",
    "-    Pass the data through the network.\n",
    "-    Compute the predictions and optionally save qualitative results.\n",
    "-   Update the evaluation metrics.\n",
    "-   Compute and store the losses"
   ]
  },
  {
   "cell_type": "code",
   "execution_count": 18,
   "metadata": {},
   "outputs": [
    {
     "name": "stdout",
     "output_type": "stream",
     "text": [
      "frame number: 3, max value = 1.0 yeyy\n",
      "frame number: 4, max value = 1.0 yeyy\n",
      "frame number: 5, max value = 1.0 yeyy\n",
      "frame number: 6, max value = 1.0 yeyy\n",
      "frame number: 15, max value = 1.0 yeyy\n"
     ]
    }
   ],
   "source": [
    "# Get frame_num_plot from the dataloader\n",
    "for frame_num, frame in enumerate(frame_dataloader):\n",
    "    rd_mask = frame['rd_mask'].to(device).float()\n",
    "    if rd_mask[0][1:].max() > 0.0:\n",
    "        frame_num_plot -= 1\n",
    "        print(\n",
    "            f\"frame number: {frame_num}, max value = {rd_mask[0][1:].max()} yeyy\")\n",
    "        if frame_num_plot == 0:\n",
    "            break\n",
    "        \n",
    "# Retrieve tensors and move them to the device (assumes proper keys exist in frame)\n",
    "rd_data = frame['rd_matrix'].to(device).float()\n",
    "ra_data = frame['ra_matrix'].to(device).float()\n",
    "ad_data = frame['ad_matrix'].to(device).float()  # Only used if model is 'tmvanet'\n",
    "rd_mask = frame['rd_mask'].to(device).float()\n",
    "ra_mask = frame['ra_mask'].to(device).float()\n",
    "\n",
    "# Normalize the inputs (assumes normalize is defined)\n",
    "rd_data = normalize(rd_data, 'range_doppler', norm_type=norm_type).squeeze()\n",
    "ra_data = normalize(ra_data, 'range_angle', norm_type=norm_type).squeeze()"
   ]
  },
  {
   "cell_type": "code",
   "execution_count": 19,
   "metadata": {},
   "outputs": [
    {
     "data": {
      "text/plain": [
       "tensor(1.)"
      ]
     },
     "execution_count": 19,
     "metadata": {},
     "output_type": "execute_result"
    }
   ],
   "source": [
    "rd_mask[0][1:].max()"
   ]
  },
  {
   "cell_type": "code",
   "execution_count": 20,
   "metadata": {},
   "outputs": [
    {
     "data": {
      "text/plain": [
       "torch.Size([15, 4, 256, 256])"
      ]
     },
     "execution_count": 20,
     "metadata": {},
     "output_type": "execute_result"
    }
   ],
   "source": [
    "# Forward pass through the network (check if model requires angle_doppler data)\n",
    "if model == 'tmvanet':\n",
    "    ad_data = normalize(ad_data, 'angle_doppler', norm_type=norm_type).squeeze()\n",
    "    rd_outputs, ra_outputs = net(rd_data, ra_data, ad_data)\n",
    "else:\n",
    "    rd_outputs, ra_outputs = net(rd_data, ra_data)\n",
    "\n",
    "# Ensure outputs are on the proper device\n",
    "rd_outputs = rd_outputs.to(device)\n",
    "ra_outputs = ra_outputs.to(device)\n",
    "ra_outputs.shape"
   ]
  },
  {
   "cell_type": "markdown",
   "metadata": {},
   "source": [
    "# Plotting the Results\n",
    "Finally, we plot the results using the `plot_results` method. This method takes the collected losses and metrics and generates visualizations to help us understand the model's performance."
   ]
  },
  {
   "cell_type": "code",
   "execution_count": 23,
   "metadata": {},
   "outputs": [],
   "source": [
    "import matplotlib.pyplot as plt"
   ]
  },
  {
   "cell_type": "code",
   "execution_count": 24,
   "metadata": {},
   "outputs": [
    {
     "name": "stdout",
     "output_type": "stream",
     "text": [
      "shapes:\n",
      "rd_pred_masks: torch.Size([5, 256, 64])\n",
      "ra_pred_masks: torch.Size([5, 256, 256])\n",
      "rd_gt_masks: torch.Size([5, 256, 64])\n",
      "ra_gt_masks: torch.Size([5, 256, 256])\n",
      "rd_pred_grid: torch.Size([3, 260, 332])\n",
      "ra_pred_grid: torch.Size([3, 260, 1292])\n"
     ]
    }
   ],
   "source": [
    "rd_pred_masks = torch.argmax(rd_outputs, axis=1)[:5]\n",
    "ra_pred_masks = torch.argmax(ra_outputs, axis=1)[:5]\n",
    "rd_gt_masks = torch.argmax(rd_mask, axis=1)[:5]\n",
    "ra_gt_masks = torch.argmax(ra_mask, axis=1)[:5]\n",
    "rd_pred_grid = make_grid(transform_masks_viz(rd_pred_masks,\n",
    "                                                nb_classes))\n",
    "ra_pred_grid = make_grid(transform_masks_viz(ra_pred_masks,\n",
    "                                                nb_classes))\n",
    "rd_gt_grid = make_grid(transform_masks_viz(rd_gt_masks,\n",
    "                                            nb_classes))\n",
    "ra_gt_grid = make_grid(transform_masks_viz(ra_gt_masks,\n",
    "                                            nb_classes))\n",
    "# visualizer.update_multi_img_masks(rd_pred_grid, rd_gt_grid,\n",
    "#                                         ra_pred_grid, ra_gt_grid,\n",
    "#                                         iteration)\n",
    "\n",
    "\n",
    "print(\"shapes:\")\n",
    "print(f\"rd_pred_masks: {rd_pred_masks.shape}\")\n",
    "print(f\"ra_pred_masks: {ra_pred_masks.shape}\")\n",
    "print(f\"rd_gt_masks: {rd_gt_masks.shape}\")\n",
    "print(f\"ra_gt_masks: {ra_gt_masks.shape}\")\n",
    "print(f\"rd_pred_grid: {rd_pred_grid.shape}\")\n",
    "print(f\"ra_pred_grid: {ra_pred_grid.shape}\")\n"
   ]
  },
  {
   "cell_type": "code",
   "execution_count": 25,
   "metadata": {},
   "outputs": [
    {
     "data": {
      "image/png": "[encoded data removed]",
      "text/plain": [
       "<Figure size 1800x1200 with 4 Axes>"
      ]
     },
     "metadata": {},
     "output_type": "display_data"
    }
   ],
   "source": [
    "import matplotlib.pyplot as plt\n",
    "import torch\n",
    "import numpy as np\n",
    "from torchvision.utils import make_grid\n",
    "from mvrss.utils.functions import mask_to_img\n",
    "\n",
    "\n",
    "def prepare_grid(masks, nrow=3):\n",
    "    \"\"\"Convert batch of masks to RGB grid\"\"\"\n",
    "    # Convert each mask to RGB image\n",
    "    rgb_images = [mask_to_img(m.cpu().numpy()) for m in masks]\n",
    "    # Convert PIL Images to tensors\n",
    "    tensors = [torch.from_numpy(np.array(img)).permute(2, 0, 1)\n",
    "               for img in rgb_images]\n",
    "    # Create grid\n",
    "    return make_grid(tensors, nrow=nrow, padding=10)\n",
    "\n",
    "\n",
    "# Create grids from original masks (before argmax)\n",
    "rd_pred_grid = prepare_grid(rd_pred_masks)\n",
    "ra_pred_grid = prepare_grid(ra_pred_masks)\n",
    "rd_gt_grid = prepare_grid(rd_gt_masks)\n",
    "ra_gt_grid = prepare_grid(ra_gt_masks)\n",
    "\n",
    "# Create comparison plot\n",
    "fig, axs = plt.subplots(2, 2, figsize=(18, 12))\n",
    "fig.suptitle('Prediction vs Ground Truth Comparison', fontsize=16)\n",
    "\n",
    "images = [\n",
    "    (rd_pred_grid, 'RD Prediction'),\n",
    "    (ra_pred_grid, 'RA Prediction'),\n",
    "    (rd_gt_grid, 'RD Ground Truth'),\n",
    "    (ra_gt_grid, 'RA Ground Truth')\n",
    "]\n",
    "\n",
    "for ax, (img, title) in zip(axs.ravel(), images):\n",
    "    # Process grid\n",
    "    img = img.cpu().permute(1, 2, 0).numpy()\n",
    "    ax.imshow(img)\n",
    "    ax.set_title(title)\n",
    "    ax.axis('off')\n",
    "\n",
    "plt.tight_layout()\n",
    "plt.show()"
   ]
  },
  {
   "cell_type": "code",
   "execution_count": 26,
   "metadata": {},
   "outputs": [
    {
     "ename": "IndexError",
     "evalue": "boolean index did not match indexed array along axis 2; size of axis is 3 but size of corresponding boolean axis is 232",
     "output_type": "error",
     "traceback": [
      "\u001b[31m---------------------------------------------------------------------------\u001b[39m",
      "\u001b[31mIndexError\u001b[39m                                Traceback (most recent call last)",
      "\u001b[36mCell\u001b[39m\u001b[36m \u001b[39m\u001b[32mIn[26]\u001b[39m\u001b[32m, line 15\u001b[39m\n\u001b[32m      7\u001b[39m fig.suptitle(\u001b[33m'\u001b[39m\u001b[33mPrediction vs Ground Truth Comparison\u001b[39m\u001b[33m'\u001b[39m, fontsize=\u001b[32m16\u001b[39m)\n\u001b[32m      9\u001b[39m \u001b[38;5;66;03m# List of images and their titles\u001b[39;00m\n\u001b[32m     10\u001b[39m images = [\n\u001b[32m     11\u001b[39m     (rd_pred_grid, \u001b[33m'\u001b[39m\u001b[33mRD Prediction\u001b[39m\u001b[33m'\u001b[39m),\n\u001b[32m     12\u001b[39m     (ra_pred_grid, \u001b[33m'\u001b[39m\u001b[33mRA Prediction\u001b[39m\u001b[33m'\u001b[39m),\n\u001b[32m     13\u001b[39m     (rd_gt_grid, \u001b[33m'\u001b[39m\u001b[33mRD Ground Truth\u001b[39m\u001b[33m'\u001b[39m),\n\u001b[32m     14\u001b[39m     (ra_gt_grid, \u001b[33m'\u001b[39m\u001b[33mRA Ground Truth\u001b[39m\u001b[33m'\u001b[39m),\n\u001b[32m---> \u001b[39m\u001b[32m15\u001b[39m     (\u001b[43mmask_to_img\u001b[49m\u001b[43m(\u001b[49m\u001b[43mrd_pred_grid\u001b[49m\u001b[43m)\u001b[49m, \u001b[33m'\u001b[39m\u001b[33mRD Output\u001b[39m\u001b[33m'\u001b[39m),\n\u001b[32m     16\u001b[39m     (mask_to_img(rd_gt_grid), \u001b[33m'\u001b[39m\u001b[33mRD MASK\u001b[39m\u001b[33m'\u001b[39m),\n\u001b[32m     17\u001b[39m \n\u001b[32m     18\u001b[39m \n\u001b[32m     19\u001b[39m ]\n\u001b[32m     21\u001b[39m \u001b[38;5;66;03m# Process and plot each image\u001b[39;00m\n\u001b[32m     22\u001b[39m \u001b[38;5;28;01mfor\u001b[39;00m ax, (img, title) \u001b[38;5;129;01min\u001b[39;00m \u001b[38;5;28mzip\u001b[39m(axs.ravel(), images):\n\u001b[32m     23\u001b[39m     \u001b[38;5;66;03m# Move to CPU and permute dimensions\u001b[39;00m\n",
      "\u001b[36mFile \u001b[39m\u001b[32m~/Idan/University/Masters/Thesis/2024/radar_sort/external/MVRSS/mvrss/utils/functions.py:215\u001b[39m, in \u001b[36mmask_to_img\u001b[39m\u001b[34m(mask)\u001b[39m\n\u001b[32m    212\u001b[39m \u001b[38;5;250m\u001b[39m\u001b[33;03m\"\"\"Generate colors per class, only 3 classes are supported\"\"\"\u001b[39;00m\n\u001b[32m    213\u001b[39m mask_img = np.zeros((mask.shape[\u001b[32m0\u001b[39m],\n\u001b[32m    214\u001b[39m                      mask.shape[\u001b[32m1\u001b[39m], \u001b[32m3\u001b[39m), dtype=np.uint8)\n\u001b[32m--> \u001b[39m\u001b[32m215\u001b[39m \u001b[43mmask_img\u001b[49m\u001b[43m[\u001b[49m\u001b[43mmask\u001b[49m\u001b[43m \u001b[49m\u001b[43m==\u001b[49m\u001b[43m \u001b[49m\u001b[32;43m1\u001b[39;49m\u001b[43m]\u001b[49m = [\u001b[32m255\u001b[39m, \u001b[32m0\u001b[39m, \u001b[32m0\u001b[39m]\n\u001b[32m    216\u001b[39m mask_img[mask == \u001b[32m2\u001b[39m] = [\u001b[32m0\u001b[39m, \u001b[32m255\u001b[39m, \u001b[32m0\u001b[39m]\n\u001b[32m    217\u001b[39m mask_img[mask == \u001b[32m3\u001b[39m] = [\u001b[32m0\u001b[39m, \u001b[32m0\u001b[39m, \u001b[32m255\u001b[39m]\n",
      "\u001b[31mIndexError\u001b[39m: boolean index did not match indexed array along axis 2; size of axis is 3 but size of corresponding boolean axis is 232"
     ]
    },
    {
     "data": {
      "image/png": "[encoded data removed]",
      "text/plain": [
       "<Figure size 1800x1200 with 6 Axes>"
      ]
     },
     "metadata": {},
     "output_type": "display_data"
    }
   ],
   "source": [
    "import matplotlib.pyplot as plt\n",
    "import torch\n",
    "from mvrss.utils.functions import mask_to_img\n",
    "\n",
    "# Create a 2x2 grid for comparison\n",
    "fig, axs = plt.subplots(3, 2, figsize=(18, 12))\n",
    "fig.suptitle('Prediction vs Ground Truth Comparison', fontsize=16)\n",
    "\n",
    "# List of images and their titles\n",
    "images = [\n",
    "    (rd_pred_grid, 'RD Prediction'),\n",
    "    (ra_pred_grid, 'RA Prediction'),\n",
    "    (rd_gt_grid, 'RD Ground Truth'),\n",
    "    (ra_gt_grid, 'RA Ground Truth'),\n",
    "    (mask_to_img(rd_pred_grid), 'RD Output'),\n",
    "    (mask_to_img(rd_gt_grid), 'RD MASK'),\n",
    "\n",
    "    \n",
    "]\n",
    "\n",
    "# Process and plot each image\n",
    "for ax, (img, title) in zip(axs.ravel(), images):\n",
    "    # Move to CPU and permute dimensions\n",
    "    img = img.cpu().permute(1, 2, 0)\n",
    "\n",
    "    # Normalize if needed\n",
    "    if torch.max(img) > 1.0:\n",
    "        img = img / img.max()\n",
    "\n",
    "    # Plot with settings\n",
    "    ax.imshow(img)\n",
    "    ax.set_title(title, fontsize=12)\n",
    "    ax.axis('off')\n",
    "\n",
    "    # Print diagnostics\n",
    "    print(f'{title} - Min: {img.min():.2f}, Max: {img.max():.2f}, Mean: {img.mean():.2f}')\n",
    "\n",
    "plt.tight_layout()\n",
    "plt.show()"
   ]
  },
  {
   "cell_type": "code",
   "execution_count": null,
   "metadata": {},
   "outputs": [],
   "source": [
    "    paths = Paths().get()\n",
    "\n",
    "    exp_name = cfg['name_exp'] + '_' + str(cfg['version'])\n",
    "    path = paths['logs'] / cfg['dataset'] / cfg['model'] / exp_name\n",
    "    model_path = path / 'results' / 'model.pt'\n",
    "    test_results_path = path / 'results' / 'test_results.json'"
   ]
  },
  {
   "cell_type": "code",
   "execution_count": null,
   "metadata": {},
   "outputs": [
    {
     "data": {
      "image/png": "[encoded data removed]",
      "text/plain": [
       "<Figure size 640x480 with 1 Axes>"
      ]
     },
     "metadata": {},
     "output_type": "display_data"
    },
    {
     "data": {
      "image/png": "[encoded data removed]",
      "text/plain": [
       "<Figure size 640x480 with 1 Axes>"
      ]
     },
     "metadata": {},
     "output_type": "display_data"
    }
   ],
   "source": [
    "from matplotlib import pyplot as plt\n",
    "\n",
    "plt.imshow(rd_pred_grid.permute(1, 2, 0).cpu().numpy())\n",
    "plt.axis('off')\n",
    "plt.show()\n",
    "plt.imshow(rd_gt_grid.permute(1, 2, 0).cpu().numpy())\n",
    "plt.axis('off')\n",
    "plt.show()\n"
   ]
  },
  {
   "cell_type": "code",
   "execution_count": null,
   "metadata": {},
   "outputs": [],
   "source": [
    "    # # Loop over frames in the current sequence\n",
    "    # for j, frame in enumerate(frame_dataloader):\n",
    "    #     # Retrieve tensors and move them to the device (assumes proper keys exist in frame)\n",
    "    #     rd_data = frame['rd_matrix'].to(device).float()\n",
    "    #     ra_data = frame['ra_matrix'].to(device).float()\n",
    "    #     ad_data = frame['ad_matrix'].to(device).float()  # Only used if model is 'tmvanet'\n",
    "    #     rd_mask = frame['rd_mask'].to(device).float()\n",
    "    #     ra_mask = frame['ra_mask'].to(device).float()\n",
    "        \n",
    "    #     # Normalize the inputs (assumes normalize is defined)\n",
    "    #     rd_data = normalize(rd_data, 'range_doppler', norm_type=norm_type).squeeze()\n",
    "    #     ra_data = normalize(ra_data, 'range_angle', norm_type=norm_type).squeeze()\n",
    "        \n",
    "    #     # Forward pass through the network (check if model requires angle_doppler data)\n",
    "    #     if model == 'tmvanet':\n",
    "    #         ad_data = normalize(ad_data, 'angle_doppler', norm_type=norm_type).squeeze()\n",
    "    #         rd_outputs, ra_outputs = net(rd_data, ra_data, ad_data)\n",
    "    #     else:\n",
    "    #         rd_outputs, ra_outputs = net(rd_data, ra_data)\n",
    "        \n",
    "    #     # Ensure outputs are on the proper device\n",
    "    #     rd_outputs = rd_outputs.to(device)\n",
    "    #     ra_outputs = ra_outputs.to(device)\n",
    "        \n",
    "    #     # Optional: save qualitative results if flag is enabled (assumes get_qualitatives is defined)\n",
    "    #     if get_quali:\n",
    "    #         quali_iter_rd = get_qualitatives(rd_outputs, rd_mask, paths, seq_name, quali_iter_rd, 'range_doppler')\n",
    "    #         quali_iter_ra = get_qualitatives(ra_outputs, ra_mask, paths, seq_name, quali_iter_ra, 'range_angle')\n",
    "        \n",
    "    #     # Update evaluation metrics (assumes torch.argmax and Evaluator.add_batch are defined)\n",
    "    #     rd_metrics.add_batch(torch.argmax(rd_mask, axis=1).cpu(),\n",
    "    #                          torch.argmax(rd_outputs, axis=1).cpu())\n",
    "    #     ra_metrics.add_batch(torch.argmax(ra_mask, axis=1).cpu(),\n",
    "    #                          torch.argmax(ra_outputs, axis=1).cpu())\n",
    "        \n",
    "    #     # Compute losses depending on the number of loss functions\n",
    "    #     if nb_losses < 3:\n",
    "    #         # Case without the Coherence Loss (CoL)\n",
    "    #         rd_losses = [c(rd_outputs, torch.argmax(rd_mask, axis=1)) for c in rd_criterion]\n",
    "    #         rd_loss = torch.mean(torch.stack(rd_losses))\n",
    "    #         ra_losses = [c(ra_outputs, torch.argmax(ra_mask, axis=1)) for c in ra_criterion]\n",
    "    #         ra_loss = torch.mean(torch.stack(ra_losses))\n",
    "    #         loss = torch.mean(rd_loss + ra_loss)\n",
    "    #     else:\n",
    "    #         # Case with the Coherence Loss (CoL)\n",
    "    #         rd_losses = [c(rd_outputs, torch.argmax(rd_mask, axis=1)) for c in rd_criterion[:2]]\n",
    "    #         rd_loss = torch.mean(torch.stack(rd_losses))\n",
    "    #         ra_losses = [c(ra_outputs, torch.argmax(ra_mask, axis=1)) for c in ra_criterion[:2]]\n",
    "    #         ra_loss = torch.mean(torch.stack(ra_losses))\n",
    "    #         # Compute the coherence loss between rd_outputs and ra_outputs\n",
    "    #         coherence_loss = rd_criterion[2](rd_outputs, ra_outputs)\n",
    "    #         loss = torch.mean(rd_loss + ra_loss + coherence_loss)\n",
    "        \n",
    "    #     # Store the computed losses (use .data.cpu().numpy() to convert tensors to numpy values)\n",
    "    #     running_losses.append(loss.data.cpu().numpy()[()])\n",
    "    #     rd_running_losses.append(rd_loss.data.cpu().numpy()[()])\n",
    "    #     rd_running_global_losses[0].append(rd_losses[0].data.cpu().numpy()[()])\n",
    "    #     rd_running_global_losses[1].append(rd_losses[1].data.cpu().numpy()[()])\n",
    "    #     ra_running_losses.append(ra_loss.data.cpu().numpy()[()])\n",
    "    #     ra_running_global_losses[0].append(ra_losses[0].data.cpu().numpy()[()])\n",
    "    #     ra_running_global_losses[1].append(ra_losses[1].data.cpu().numpy()[()])\n",
    "    #     if nb_losses > 2:\n",
    "    #         coherence_running_losses.append(coherence_loss.data.cpu().numpy()[()])\n",
    "        \n",
    "    #     # If this is the selected random sequence and frame, update the visualizations\n",
    "    #     if iteration is not None and i == rand_seq:\n",
    "    #         if j == rand_frame:\n",
    "    #             # Get the predicted masks for visualization (take only first 5 for brevity)\n",
    "    #             rd_pred_masks = torch.argmax(rd_outputs, axis=1)[:5]\n",
    "    #             ra_pred_masks = torch.argmax(ra_outputs, axis=1)[:5]\n",
    "    #             rd_gt_masks = torch.argmax(rd_mask, axis=1)[:5]\n",
    "    #             ra_gt_masks = torch.argmax(ra_mask, axis=1)[:5]\n",
    "    #             # Convert masks to grids for visualization (assumes make_grid and transform_masks_viz are defined)\n",
    "    #             rd_pred_grid = make_grid(transform_masks_viz(rd_pred_masks, nb_classes))\n",
    "    #             ra_pred_grid = make_grid(transform_masks_viz(ra_pred_masks, nb_classes))\n",
    "    #             rd_gt_grid = make_grid(transform_masks_viz(rd_gt_masks, nb_classes))\n",
    "    #             ra_gt_grid = make_grid(transform_masks_viz(ra_gt_masks, nb_classes))\n",
    "    #             # Update visualization (assumes visualizer.update_multi_img_masks is defined)\n",
    "    #             visualizer.update_multi_img_masks(rd_pred_grid, rd_gt_grid,\n",
    "    #                                               ra_pred_grid, ra_gt_grid,\n",
    "    #                                               iteration)\n"
   ]
  },
  {
   "cell_type": "markdown",
   "metadata": {},
   "source": [
    "## Aggregating and Reporting the Results\n",
    "After processing all sequences and frames, we aggregate the computed metrics and losses into a results dictionary. Finally, we reset the metric evaluators."
   ]
  },
  {
   "cell_type": "code",
   "execution_count": null,
   "metadata": {},
   "outputs": [
    {
     "name": "stdout",
     "output_type": "stream",
     "text": [
      "Test Results:\n",
      "{'range_doppler': {'loss': nan, 'loss_ce': nan, 'loss_dice': nan, 'acc': np.float64(0.0), 'acc_by_class': [0.0, 0.0, 0.0, 0.0], 'prec': np.float64(0.0), 'prec_by_class': [0.0, 0.0, 0.0, 0.0], 'recall': np.float64(0.0), 'recall_by_class': [0.0, 0.0, 0.0, 0.0], 'miou': np.float64(0.0), 'miou_by_class': [0.0, 0.0, 0.0, 0.0], 'dice': np.float64(0.0), 'dice_by_class': [0.0, 0.0, 0.0, 0.0]}, 'range_angle': {'loss': nan, 'loss_ce': nan, 'loss_dice': nan, 'acc': np.float64(0.0), 'acc_by_class': [0.0, 0.0, 0.0, 0.0], 'prec': np.float64(0.0), 'prec_by_class': [0.0, 0.0, 0.0, 0.0], 'recall': np.float64(0.0), 'recall_by_class': [0.0, 0.0, 0.0, 0.0], 'miou': np.float64(0.0), 'miou_by_class': [0.0, 0.0, 0.0, 0.0], 'dice': np.float64(0.0), 'dice_by_class': [0.0, 0.0, 0.0, 0.0]}, 'global_acc': np.float64(0.0), 'global_prec': np.float64(0.0), 'global_dice': np.float64(0.0)}\n"
     ]
    },
    {
     "name": "stderr",
     "output_type": "stream",
     "text": [
      "/Users/daniel/miniconda3/envs/radar_sort/lib/python3.11/site-packages/numpy/_core/fromnumeric.py:3860: RuntimeWarning: Mean of empty slice.\n",
      "  return _methods._mean(a, axis=axis, dtype=dtype,\n",
      "/Users/daniel/miniconda3/envs/radar_sort/lib/python3.11/site-packages/numpy/_core/_methods.py:145: RuntimeWarning: invalid value encountered in scalar divide\n",
      "  ret = ret.dtype.type(ret / rcount)\n",
      "/Users/daniel/Idan/University/Masters/Thesis/2024/radar_sort/external/MVRSS/mvrss/utils/metrics.py:41: RuntimeWarning: invalid value encountered in divide\n",
      "  acc_by_class = np.diag(self.confusion_matrix).sum() / (np.nansum(self.confusion_matrix, axis=1)\n",
      "/Users/daniel/Idan/University/Masters/Thesis/2024/radar_sort/external/MVRSS/mvrss/utils/metrics.py:21: RuntimeWarning: invalid value encountered in divide\n",
      "  prec_by_class = np.diag(self.confusion_matrix) / np.nansum(self.confusion_matrix, axis=0)\n",
      "/Users/daniel/Idan/University/Masters/Thesis/2024/radar_sort/external/MVRSS/mvrss/utils/metrics.py:31: RuntimeWarning: invalid value encountered in divide\n",
      "  recall_by_class = np.diag(self.confusion_matrix) / np.nansum(self.confusion_matrix, axis=1)\n",
      "/Users/daniel/Idan/University/Masters/Thesis/2024/radar_sort/external/MVRSS/mvrss/utils/metrics.py:54: RuntimeWarning: invalid value encountered in divide\n",
      "  miou_by_class = np.diag(self.confusion_matrix) / (np.nansum(self.confusion_matrix, axis=1)\n"
     ]
    }
   ],
   "source": [
    "# After processing all sequences, compute the final test results\n",
    "test_results = dict()\n",
    "\n",
    "# Compute metrics for both range_doppler and range_angle (assumes get_metrics is defined)\n",
    "test_results['range_doppler'] = get_metrics(\n",
    "    rd_metrics,\n",
    "    np.mean(rd_running_losses),\n",
    "    [np.mean(sub_loss) for sub_loss in rd_running_global_losses]\n",
    ")\n",
    "test_results['range_angle'] = get_metrics(\n",
    "    ra_metrics,\n",
    "    np.mean(ra_running_losses),\n",
    "    [np.mean(sub_loss) for sub_loss in ra_running_global_losses]\n",
    ")\n",
    "\n",
    "# If coherence loss was computed, include it in the results\n",
    "if nb_losses > 2:\n",
    "    test_results['coherence_loss'] = np.mean(coherence_running_losses).item()\n",
    "\n",
    "# Compute global metrics by averaging the two views\n",
    "test_results['global_acc'] = 0.5 * \\\n",
    "    (test_results['range_doppler']['acc'] + test_results['range_angle']['acc'])\n",
    "test_results['global_prec'] = 0.5 * \\\n",
    "    (test_results['range_doppler']['prec'] +\n",
    "     test_results['range_angle']['prec'])\n",
    "test_results['global_dice'] = 0.5 * \\\n",
    "    (test_results['range_doppler']['dice'] +\n",
    "     test_results['range_angle']['dice'])\n",
    "\n",
    "# Reset the metrics for potential further evaluations\n",
    "rd_metrics.reset()\n",
    "ra_metrics.reset()\n",
    "\n",
    "# Display the final test results\n",
    "print(\"Test Results:\")\n",
    "print(test_results)"
   ]
  }
 ],
 "metadata": {
  "kernelspec": {
   "display_name": "radar_sort",
   "language": "python",
   "name": "python3"
  },
  "language_info": {
   "codemirror_mode": {
    "name": "ipython",
    "version": 3
   },
   "file_extension": ".py",
   "mimetype": "text/x-python",
   "name": "python",
   "nbconvert_exporter": "python",
   "pygments_lexer": "ipython3",
   "version": "3.11.11"
  }
 },
 "nbformat": 4,
 "nbformat_minor": 2
}
